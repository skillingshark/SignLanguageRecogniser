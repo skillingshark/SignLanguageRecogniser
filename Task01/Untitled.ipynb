{
 "cells": [
  {
   "cell_type": "code",
   "execution_count": 4,
   "id": "c7e651d7",
   "metadata": {},
   "outputs": [
    {
     "ename": "ModuleNotFoundError",
     "evalue": "No module named 'plyer'",
     "output_type": "error",
     "traceback": [
      "\u001b[1;31m---------------------------------------------------------------------------\u001b[0m",
      "\u001b[1;31mModuleNotFoundError\u001b[0m                       Traceback (most recent call last)",
      "Cell \u001b[1;32mIn[4], line 3\u001b[0m\n\u001b[0;32m      1\u001b[0m \u001b[39mfrom\u001b[39;00m \u001b[39mtkinter\u001b[39;00m \u001b[39mimport\u001b[39;00m \u001b[39m*\u001b[39m \u001b[39m# tkinter is a standard GUI library\u001b[39;00m\n\u001b[0;32m      2\u001b[0m \u001b[39mimport\u001b[39;00m \u001b[39mtkinter\u001b[39;00m\u001b[39m.\u001b[39;00m\u001b[39mmessagebox\u001b[39;00m \u001b[39m# messagebox widget to display messages \u001b[39;00m\n\u001b[1;32m----> 3\u001b[0m \u001b[39mfrom\u001b[39;00m \u001b[39mplyer\u001b[39;00m \u001b[39mimport\u001b[39;00m notification\n\u001b[0;32m      4\u001b[0m \u001b[39mimport\u001b[39;00m \u001b[39mtime\u001b[39;00m\n\u001b[0;32m      5\u001b[0m \u001b[39mimport\u001b[39;00m \u001b[39mschedule\u001b[39;00m\n",
      "\u001b[1;31mModuleNotFoundError\u001b[0m: No module named 'plyer'"
     ]
    }
   ],
   "source": [
    "from tkinter import * # tkinter is a standard GUI library\n",
    "import tkinter.messagebox # messagebox widget to display messages \n",
    "from plyer import notification\n",
    "import time\n",
    "import schedule"
   ]
  },
  {
   "cell_type": "code",
   "execution_count": null,
   "id": "33e232d4",
   "metadata": {},
   "outputs": [],
   "source": [
    "window=Tk() # creates a main application window \n",
    "window.title(\"To-Do List App\") # title to be displayed at the top"
   ]
  },
  {
   "cell_type": "code",
   "execution_count": null,
   "id": "078d3606",
   "metadata": {},
   "outputs": [],
   "source": [
    "frame_task=Frame(window) # frame widget to hold the listbox and scrollbar \n",
    "                         # Frame() - container widget within the main window (which is taken as argument)\n",
    "frame_task.pack() # pack() - organises the widget before placing it in the main window"
   ]
  },
  {
   "cell_type": "code",
   "execution_count": null,
   "id": "72b030d6",
   "metadata": {},
   "outputs": [],
   "source": [
    "listbox_task=Listbox(frame_task, bg=\"black\", fg=\"white\", height=15, width=50,font=\"Helvetica\")\n",
    "# Listbox() - stores all the tasks that we list \n",
    "listbox_task.pack(side=tkinter.LEFT)"
   ]
  },
  {
   "cell_type": "code",
   "execution_count": null,
   "id": "cf3c5963",
   "metadata": {},
   "outputs": [],
   "source": [
    "scrollbar_task=Scrollbar(frame_task)\n",
    "scrollbar_task.pack(side=tkinter.RIGHT, fill=tkinter.Y)"
   ]
  },
  {
   "cell_type": "code",
   "execution_count": null,
   "id": "b0c9cda4",
   "metadata": {},
   "outputs": [],
   "source": [
    "listbox_task.config(yscrollcommand=scrollbar_task.set) # setting scrollbar to listbox_task widget\n",
    "scrollbar_task.config(command=listbox_task.yview) # configuring it on vertical axis"
   ]
  },
  {
   "cell_type": "code",
   "execution_count": null,
   "id": "e6dc8e49",
   "metadata": {},
   "outputs": [],
   "source": [
    "def entertask():\n",
    "    input_text=\"\"\n",
    "    def add():\n",
    "        input_text=entry_task.get(1.0, \"end-1c\")\n",
    "        if input_text==\"\":\n",
    "            tkinter.messagebox.showwarning(title=\"Warning!\", message=\"Please Enter some Text\")\n",
    "        else:\n",
    "            listbox_task.insert(END, input_text)\n",
    "            root1.destroy()\n",
    "    def time_entry():\n",
    "        root2=Tk()\n",
    "        root2.title(\"Set Time\")\n",
    "        entry_time=NUMERIC(root2, width=20, height=4)\n",
    "        entry_time.pack()\n",
    "        time=entry_time.get(1.0, \"end-1c\")\n",
    "        print(time)\n",
    "        if type(entry_time) == float:\n",
    "            my_notificaiton=notification.notify(\n",
    "                title=\"Task\",\n",
    "                message=input_text,\n",
    "                timeout=10\n",
    "            )       \n",
    "    root1=Tk()\n",
    "    root1.title(\"Add task\")\n",
    "    entry_task=Text(root1, width=40, height=4)\n",
    "    entry_task.pack()\n",
    "    button_reminder=Button(root1, text=\"Set Reminder Time\",command=time_entry)\n",
    "    button_reminder.pack()\n",
    "    button_temp=Button(root1, text=\"Add task\", command=add)\n",
    "    button_temp.pack()\n",
    "    root1.mainloop()"
   ]
  },
  {
   "cell_type": "code",
   "execution_count": null,
   "id": "5c5115b5",
   "metadata": {},
   "outputs": [],
   "source": [
    "def deletetask():\n",
    "    selected=listbox_task.curselection()\n",
    "    listbox_task.delete(selected[0])"
   ]
  },
  {
   "cell_type": "code",
   "execution_count": null,
   "id": "1e335b23",
   "metadata": {},
   "outputs": [],
   "source": [
    "def markcompleted():\n",
    "    marked=listbox_task.curselection()\n",
    "    temp=marked[0]\n",
    "    temp_marked=listbox_task.get(marked)\n",
    "    temp_marked=temp_marked+\" ✔\"\n",
    "    listbox_task.delete(temp)\n",
    "    listbox_task.insert(temp, temp_marked)"
   ]
  },
  {
   "cell_type": "code",
   "execution_count": null,
   "id": "31103c32",
   "metadata": {},
   "outputs": [],
   "source": [
    "entry_button=Button(window, text=\"Add task\", width=50, command=entertask)\n",
    "entry_button.pack(pady=3)"
   ]
  },
  {
   "cell_type": "code",
   "execution_count": null,
   "id": "9c28cc6d",
   "metadata": {},
   "outputs": [],
   "source": [
    "delete_button=Button(window, text=\"Delete selected task\", width=50, command=deletetask)\n",
    "delete_button.pack(pady=3)"
   ]
  },
  {
   "cell_type": "code",
   "execution_count": null,
   "id": "5ad69b13",
   "metadata": {},
   "outputs": [],
   "source": [
    "mark_button=Button(window, text=\"Mark as completed\", width=50, command=markcompleted)\n",
    "mark_button.pack(pady=3)"
   ]
  },
  {
   "cell_type": "code",
   "execution_count": null,
   "id": "3fa6caac",
   "metadata": {},
   "outputs": [],
   "source": [
    "window.mainloop()"
   ]
  }
 ],
 "metadata": {
  "kernelspec": {
   "display_name": "Python 3 (ipykernel)",
   "language": "python",
   "name": "python3"
  },
  "language_info": {
   "codemirror_mode": {
    "name": "ipython",
    "version": 3
   },
   "file_extension": ".py",
   "mimetype": "text/x-python",
   "name": "python",
   "nbconvert_exporter": "python",
   "pygments_lexer": "ipython3",
   "version": "3.11.3"
  }
 },
 "nbformat": 4,
 "nbformat_minor": 5
}
